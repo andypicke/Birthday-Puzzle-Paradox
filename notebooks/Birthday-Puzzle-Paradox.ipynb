{
 "cells": [
  {
   "cell_type": "markdown",
   "metadata": {},
   "source": [
    "# The Birthday Puzzle Paradox\n",
    "\n",
    "If a room contains N people, what is the probability that at least 2 people will share the same birthday? \n",
    "\n",
    "- https://en.wikipedia.org/wiki/Birthday_problem\n",
    "- https://en.wikipedia.org/wiki/Birthday_problem\n",
    "\n"
   ]
  },
  {
   "cell_type": "markdown",
   "metadata": {},
   "source": [
    "# Solution Assuming Uniform Distribution of Birthdays\n",
    "- Assume all birthdays are equally likely (ie a uniform distribution from 1 to 365). We can sample from this distribution in python using *numpy.random.randint*.\n",
    "- For a given number of people in the room (*N_in_room*), draw a random sample of size *N_in_room* with replacement and check if any values occur more than once (i'll use the handy *Counter* function from the *collections* module to count the number of times each value occurs).\n",
    "- Repeat this sampling process many times, then calculate the percent of times we get at least one duplicate; this is interpreted as the probability of getting at least one match for that room size.\n",
    "- Repeat the above process for different *N_in_room* values, and plot the probabilities versus *N_in_room*."
   ]
  },
  {
   "cell_type": "code",
   "execution_count": 25,
   "metadata": {},
   "outputs": [],
   "source": [
    "# %load ~/jupyter_imports\n",
    "import pandas as pd\n",
    "import numpy as np\n",
    "np.set_printoptions(suppress=True)\n",
    "import matplotlib.pyplot as plt\n",
    "%matplotlib inline\n",
    "from collections import Counter\n",
    "import seaborn as sns\n",
    "\n",
    "# make plots look nice\n",
    "plt.rcParams['font.size'] = 14\n",
    "plt.rcParams['axes.labelsize'] = 'large'\n",
    "plt.rcParams['xtick.labelsize'] = 'large'\n",
    "plt.rcParams['ytick.labelsize'] = 'large'\n",
    "plt.rcParams['lines.linewidth'] = 3\n",
    "plt.style.use('ggplot')\n"
   ]
  },
  {
   "cell_type": "code",
   "execution_count": null,
   "metadata": {},
   "outputs": [],
   "source": []
  },
  {
   "cell_type": "code",
   "execution_count": 11,
   "metadata": {},
   "outputs": [],
   "source": [
    "def prob_shared_birthday(N_in_room, N_simulations=5000, probs=None):\n",
    "    '''\n",
    "    Simulate the 'Birthday Puzzle Paradox'\n",
    "    \n",
    "    INPUT\n",
    "    N_in_room (integer) : Number of People in room\n",
    "    N_simulations (integer)(optional) : Number of Simulations to run (default = 5000)\n",
    "    probs (numpy array)(optional): Array of probabilities for each yday (1-365). \n",
    "        Defaults to uniform probability distribution\n",
    "    \n",
    "    RETURNS\n",
    "    (p_gte2, p_gte3) (tuple of floats) : Probabilites of >=2, >=3 people sharing birthdays\n",
    "    '''\n",
    "    n_gte2 = []\n",
    "    n_gte3  = []\n",
    "    possible_ydays = np.arange(1,366)\n",
    "    for _ in range(N_simulations):\n",
    "        x = np.random.choice(possible_ydays, size = N_in_room,  replace=True, p=probs)\n",
    "        vals = np.array(list(Counter(x).values()))\n",
    "        n_gte2.append(np.sum(vals>=2))\n",
    "        n_gte3.append(np.sum(vals>=3))\n",
    "    p_gte2 = np.mean(np.array(n_gte2)>0)\n",
    "    p_gte3 = np.mean(np.array(n_gte3)>0)\n",
    "    return (p_gte2, p_gte3)\n"
   ]
  },
  {
   "cell_type": "code",
   "execution_count": 12,
   "metadata": {},
   "outputs": [
    {
     "data": {
      "text/plain": [
       "(0.5104, 0.0113)"
      ]
     },
     "execution_count": 12,
     "metadata": {},
     "output_type": "execute_result"
    }
   ],
   "source": [
    "prob_shared_birthday(23,10000)"
   ]
  },
  {
   "cell_type": "code",
   "execution_count": 15,
   "metadata": {},
   "outputs": [],
   "source": [
    "\n",
    "\n",
    "p=[]\n",
    "for N_in_room in range(1,70):\n",
    "    p_gte2, p_gte3 = prob_shared_birthday(N_in_room)\n",
    "    p.append(p_gte2)\n",
    "    "
   ]
  },
  {
   "cell_type": "code",
   "execution_count": 17,
   "metadata": {},
   "outputs": [
    {
     "data": {
      "image/png": "[encoded data removed]",
      "text/plain": [
       "<Figure size 576x576 with 1 Axes>"
      ]
     },
     "metadata": {},
     "output_type": "display_data"
    }
   ],
   "source": [
    "fig, ax = plt.subplots(1, figsize=(8,8))\n",
    "ax.plot(list(range(1,70)), p, linewidth=3)\n",
    "ax.set_xlabel('# People in Room')\n",
    "ax.set_ylabel('p')\n",
    "ax.set_title('Probability At Least 2 People Share Birthday')\n",
    "plt.show()"
   ]
  },
  {
   "cell_type": "code",
   "execution_count": 55,
   "metadata": {},
   "outputs": [
    {
     "data": {
      "text/plain": [
       "(1.0, 0.4976)"
      ]
     },
     "execution_count": 55,
     "metadata": {},
     "output_type": "execute_result"
    }
   ],
   "source": [
    "prob_shared_birthday(87)"
   ]
  },
  {
   "cell_type": "markdown",
   "metadata": {},
   "source": [
    "How many simulations does it take for probability to converge? We'll check for the 23 person room."
   ]
  },
  {
   "cell_type": "code",
   "execution_count": null,
   "metadata": {},
   "outputs": [],
   "source": [
    "p=[]\n",
    "N_in_room = 20\n",
    "Nsims = list(range(1,10000, 100))\n",
    "for N_simulations in Nsims:\n",
    "    p.append(prob_shared_birthday(N_in_room,N_simulations))\n",
    "\n",
    "fig,ax = plt.subplots(1)\n",
    "ax.plot(Nsims,p)\n",
    "ax.set_ylim(0,1)"
   ]
  },
  {
   "cell_type": "markdown",
   "metadata": {},
   "source": [
    "# Solution Using Actual Probabilities of Birth Days\n",
    "\n",
    "Above we assumed that all birthdays were equally likely; but this is not the case in real life.\n",
    "- http://thedailyviz.com/2016/09/17/how-common-is-your-birthday-dailyviz/\n",
    "- http://www.vizwiz.com/2012/05/how-common-is-your-birthday-find-out.html\n",
    "- https://github.com/fivethirtyeight/data/tree/master/births\n",
    "\n"
   ]
  },
  {
   "cell_type": "code",
   "execution_count": 31,
   "metadata": {},
   "outputs": [
    {
     "data": {
      "text/html": [
       "<div>\n",
       "<style scoped>\n",
       "    .dataframe tbody tr th:only-of-type {\n",
       "        vertical-align: middle;\n",
       "    }\n",
       "\n",
       "    .dataframe tbody tr th {\n",
       "        vertical-align: top;\n",
       "    }\n",
       "\n",
       "    .dataframe thead th {\n",
       "        text-align: right;\n",
       "    }\n",
       "</style>\n",
       "<table border=\"1\" class=\"dataframe\">\n",
       "  <thead>\n",
       "    <tr style=\"text-align: right;\">\n",
       "      <th></th>\n",
       "      <th>year</th>\n",
       "      <th>month</th>\n",
       "      <th>date_of_month</th>\n",
       "      <th>births</th>\n",
       "    </tr>\n",
       "  </thead>\n",
       "  <tbody>\n",
       "    <tr>\n",
       "      <th>0</th>\n",
       "      <td>2000</td>\n",
       "      <td>1</td>\n",
       "      <td>1</td>\n",
       "      <td>9083</td>\n",
       "    </tr>\n",
       "    <tr>\n",
       "      <th>1</th>\n",
       "      <td>2000</td>\n",
       "      <td>1</td>\n",
       "      <td>2</td>\n",
       "      <td>8006</td>\n",
       "    </tr>\n",
       "    <tr>\n",
       "      <th>2</th>\n",
       "      <td>2000</td>\n",
       "      <td>1</td>\n",
       "      <td>3</td>\n",
       "      <td>11363</td>\n",
       "    </tr>\n",
       "    <tr>\n",
       "      <th>3</th>\n",
       "      <td>2000</td>\n",
       "      <td>1</td>\n",
       "      <td>4</td>\n",
       "      <td>13032</td>\n",
       "    </tr>\n",
       "    <tr>\n",
       "      <th>4</th>\n",
       "      <td>2000</td>\n",
       "      <td>1</td>\n",
       "      <td>5</td>\n",
       "      <td>12558</td>\n",
       "    </tr>\n",
       "  </tbody>\n",
       "</table>\n",
       "</div>"
      ],
      "text/plain": [
       "   year  month  date_of_month  births\n",
       "0  2000      1              1    9083\n",
       "1  2000      1              2    8006\n",
       "2  2000      1              3   11363\n",
       "3  2000      1              4   13032\n",
       "4  2000      1              5   12558"
      ]
     },
     "execution_count": 31,
     "metadata": {},
     "output_type": "execute_result"
    }
   ],
   "source": [
    "df_births = pd.read_csv('../data/US_births_2000-2014_SSA.csv')\n",
    "df_births.drop(['day_of_week'], axis=1, inplace=True)\n",
    "df_births.head()"
   ]
  },
  {
   "cell_type": "code",
   "execution_count": 32,
   "metadata": {},
   "outputs": [
    {
     "data": {
      "text/html": [
       "<div>\n",
       "<style scoped>\n",
       "    .dataframe tbody tr th:only-of-type {\n",
       "        vertical-align: middle;\n",
       "    }\n",
       "\n",
       "    .dataframe tbody tr th {\n",
       "        vertical-align: top;\n",
       "    }\n",
       "\n",
       "    .dataframe thead th {\n",
       "        text-align: right;\n",
       "    }\n",
       "</style>\n",
       "<table border=\"1\" class=\"dataframe\">\n",
       "  <thead>\n",
       "    <tr style=\"text-align: right;\">\n",
       "      <th></th>\n",
       "      <th>year</th>\n",
       "      <th>month</th>\n",
       "      <th>day</th>\n",
       "      <th>births</th>\n",
       "      <th>date</th>\n",
       "      <th>leap_year</th>\n",
       "      <th>yearday</th>\n",
       "    </tr>\n",
       "  </thead>\n",
       "  <tbody>\n",
       "    <tr>\n",
       "      <th>0</th>\n",
       "      <td>2000</td>\n",
       "      <td>1</td>\n",
       "      <td>1</td>\n",
       "      <td>9083</td>\n",
       "      <td>2000-01-01</td>\n",
       "      <td>True</td>\n",
       "      <td>1</td>\n",
       "    </tr>\n",
       "    <tr>\n",
       "      <th>1</th>\n",
       "      <td>2000</td>\n",
       "      <td>1</td>\n",
       "      <td>2</td>\n",
       "      <td>8006</td>\n",
       "      <td>2000-01-02</td>\n",
       "      <td>True</td>\n",
       "      <td>2</td>\n",
       "    </tr>\n",
       "    <tr>\n",
       "      <th>2</th>\n",
       "      <td>2000</td>\n",
       "      <td>1</td>\n",
       "      <td>3</td>\n",
       "      <td>11363</td>\n",
       "      <td>2000-01-03</td>\n",
       "      <td>True</td>\n",
       "      <td>3</td>\n",
       "    </tr>\n",
       "    <tr>\n",
       "      <th>3</th>\n",
       "      <td>2000</td>\n",
       "      <td>1</td>\n",
       "      <td>4</td>\n",
       "      <td>13032</td>\n",
       "      <td>2000-01-04</td>\n",
       "      <td>True</td>\n",
       "      <td>4</td>\n",
       "    </tr>\n",
       "    <tr>\n",
       "      <th>4</th>\n",
       "      <td>2000</td>\n",
       "      <td>1</td>\n",
       "      <td>5</td>\n",
       "      <td>12558</td>\n",
       "      <td>2000-01-05</td>\n",
       "      <td>True</td>\n",
       "      <td>5</td>\n",
       "    </tr>\n",
       "  </tbody>\n",
       "</table>\n",
       "</div>"
      ],
      "text/plain": [
       "   year  month  day  births       date  leap_year  yearday\n",
       "0  2000      1    1    9083 2000-01-01       True        1\n",
       "1  2000      1    2    8006 2000-01-02       True        2\n",
       "2  2000      1    3   11363 2000-01-03       True        3\n",
       "3  2000      1    4   13032 2000-01-04       True        4\n",
       "4  2000      1    5   12558 2000-01-05       True        5"
      ]
     },
     "execution_count": 32,
     "metadata": {},
     "output_type": "execute_result"
    }
   ],
   "source": [
    "df_births.rename( columns={'date_of_month':'day'},inplace=True)\n",
    "df_births['date'] = pd.to_datetime(df_births[['year', 'month', 'day']])\n",
    "df_births['leap_year']=df_births['date'].dt.is_leap_year\n",
    "df_births['yearday'] = df_births['date'].dt.dayofyear\n",
    "#df_births['week'] = df_births['date'].dt.weekofyear\n",
    "#df_births.drop(['year','month','day'], axis=1 , inplace=True)\n",
    "df_births.head()"
   ]
  },
  {
   "cell_type": "code",
   "execution_count": 34,
   "metadata": {},
   "outputs": [
    {
     "data": {
      "text/html": [
       "<div>\n",
       "<style scoped>\n",
       "    .dataframe tbody tr th:only-of-type {\n",
       "        vertical-align: middle;\n",
       "    }\n",
       "\n",
       "    .dataframe tbody tr th {\n",
       "        vertical-align: top;\n",
       "    }\n",
       "\n",
       "    .dataframe thead th {\n",
       "        text-align: right;\n",
       "    }\n",
       "</style>\n",
       "<table border=\"1\" class=\"dataframe\">\n",
       "  <thead>\n",
       "    <tr style=\"text-align: right;\">\n",
       "      <th></th>\n",
       "      <th>year</th>\n",
       "      <th>month</th>\n",
       "      <th>day</th>\n",
       "      <th>births</th>\n",
       "      <th>date</th>\n",
       "      <th>yearday</th>\n",
       "    </tr>\n",
       "  </thead>\n",
       "  <tbody>\n",
       "    <tr>\n",
       "      <th>366</th>\n",
       "      <td>2001</td>\n",
       "      <td>1</td>\n",
       "      <td>1</td>\n",
       "      <td>7663</td>\n",
       "      <td>2001-01-01</td>\n",
       "      <td>1</td>\n",
       "    </tr>\n",
       "    <tr>\n",
       "      <th>367</th>\n",
       "      <td>2001</td>\n",
       "      <td>1</td>\n",
       "      <td>2</td>\n",
       "      <td>10635</td>\n",
       "      <td>2001-01-02</td>\n",
       "      <td>2</td>\n",
       "    </tr>\n",
       "    <tr>\n",
       "      <th>368</th>\n",
       "      <td>2001</td>\n",
       "      <td>1</td>\n",
       "      <td>3</td>\n",
       "      <td>12449</td>\n",
       "      <td>2001-01-03</td>\n",
       "      <td>3</td>\n",
       "    </tr>\n",
       "    <tr>\n",
       "      <th>369</th>\n",
       "      <td>2001</td>\n",
       "      <td>1</td>\n",
       "      <td>4</td>\n",
       "      <td>12678</td>\n",
       "      <td>2001-01-04</td>\n",
       "      <td>4</td>\n",
       "    </tr>\n",
       "    <tr>\n",
       "      <th>370</th>\n",
       "      <td>2001</td>\n",
       "      <td>1</td>\n",
       "      <td>5</td>\n",
       "      <td>12647</td>\n",
       "      <td>2001-01-05</td>\n",
       "      <td>5</td>\n",
       "    </tr>\n",
       "  </tbody>\n",
       "</table>\n",
       "</div>"
      ],
      "text/plain": [
       "     year  month  day  births       date  yearday\n",
       "366  2001      1    1    7663 2001-01-01        1\n",
       "367  2001      1    2   10635 2001-01-02        2\n",
       "368  2001      1    3   12449 2001-01-03        3\n",
       "369  2001      1    4   12678 2001-01-04        4\n",
       "370  2001      1    5   12647 2001-01-05        5"
      ]
     },
     "execution_count": 34,
     "metadata": {},
     "output_type": "execute_result"
    }
   ],
   "source": [
    "# drop leap years\n",
    "df_births = df_births[df_births['leap_year']==False]\n",
    "#df_births['year'].value_counts()\n",
    "df_births.drop('leap_year', axis=1, inplace=True)\n",
    "df_births.head()"
   ]
  },
  {
   "cell_type": "code",
   "execution_count": 48,
   "metadata": {},
   "outputs": [
    {
     "data": {
      "image/png": "[encoded data removed]",
      "text/plain": [
       "<Figure size 1008x576 with 2 Axes>"
      ]
     },
     "metadata": {},
     "output_type": "display_data"
    }
   ],
   "source": [
    "df2 = df_births.groupby(['month','day']).sum().reset_index()\n",
    "fig,ax = plt.subplots(1, figsize=(14,8))\n",
    "sns.heatmap(df2.pivot('month','day','births'), ax=ax)\n",
    "ax.invert_yaxis()\n",
    "ax.set_xlabel('Day of Month')\n",
    "ax.set_ylabel('Month')\n",
    "ax.set_title('Number of Births Vs. Month and Day')\n",
    "plt.show()"
   ]
  },
  {
   "cell_type": "code",
   "execution_count": 43,
   "metadata": {},
   "outputs": [
    {
     "data": {
      "text/plain": [
       "11"
      ]
     },
     "execution_count": 43,
     "metadata": {},
     "output_type": "execute_result"
    }
   ],
   "source": []
  },
  {
   "cell_type": "code",
   "execution_count": null,
   "metadata": {},
   "outputs": [],
   "source": [
    "fig,ax = plt.subplots(1, figsize=(10,10))\n",
    "sns.heatmap(df2.pivot('month','date_of_month','births'), ax=ax)\n",
    "ax.invert_yaxis()"
   ]
  },
  {
   "cell_type": "code",
   "execution_count": null,
   "metadata": {},
   "outputs": [],
   "source": [
    "total_births = df_births['births'].sum()\n",
    "total_births"
   ]
  },
  {
   "cell_type": "code",
   "execution_count": null,
   "metadata": {},
   "outputs": [],
   "source": [
    "df_births.drop(['year', 'month','day','leap_year','week'], axis=1, inplace=True)\n",
    "df_gb_yday = df_births.groupby('yearday').sum().reset_index()\n",
    "df_gb_yday['birth_prob'] = df_gb_yday['births']/total_births\n",
    "df_gb_yday"
   ]
  },
  {
   "cell_type": "markdown",
   "metadata": {},
   "source": [
    "Check that probabilities sum to 1:"
   ]
  },
  {
   "cell_type": "code",
   "execution_count": null,
   "metadata": {},
   "outputs": [],
   "source": [
    "np.sum(df_gb_yday['birth_prob'])"
   ]
  },
  {
   "cell_type": "code",
   "execution_count": null,
   "metadata": {},
   "outputs": [],
   "source": [
    "fig, ax = plt.subplots(1, figsize=(8,8))\n",
    "ax.scatter(df_gb_yday['yearday'], df_gb_yday['birth_prob'], label='Actual Probs')\n",
    "ax.set_ylim(0,0.0035)\n",
    "ax.axhline(1/365, color='black', label='Uniform P (1/365)')\n",
    "ax.set_xlabel('Yearday')\n",
    "ax.set_ylabel('Probability')\n",
    "ax.legend()\n",
    "plt.show()"
   ]
  },
  {
   "cell_type": "markdown",
   "metadata": {},
   "source": [
    "I'll modify the function to work for both cases (with or without probs)"
   ]
  },
  {
   "cell_type": "code",
   "execution_count": null,
   "metadata": {},
   "outputs": [],
   "source": [
    "def prob_shared_birthday(N_in_room, N_simulations=5000, probs = None):\n",
    "    '''\n",
    "    Simulate the 'Birthday Puzzle Paradox'\n",
    "    \n",
    "    INPUT\n",
    "    N_in_room (integer) : Number of People in room\n",
    "    N_simulations (integer) : Number of Simulations to run\n",
    "    '''\n",
    "    n_gte2 = []\n",
    "    #n_gt3 = []\n",
    "    ydays = np.arange(1,366)\n",
    "    for _ in range(N_simulations):\n",
    "        x = np.random.choice(ydays, size=N_in_room, replace=True, p=probs)\n",
    "        vals = np.array(list(Counter(x).values()))\n",
    "        #print(vals)\n",
    "        #print(np.sum(vals>=2))\n",
    "        n_gte2.append(np.sum(vals>=2))\n",
    "        #n_gt3.append(np.sum(vals>=3))\n",
    "    p_gte2 = np.mean(np.array(n_gte2)>0)\n",
    "    #p_gt3 = np.mean(np.array(n_gt3)>0)\n",
    "    return p_gte2#(p_gt2, p_gt3)\n"
   ]
  },
  {
   "cell_type": "code",
   "execution_count": null,
   "metadata": {},
   "outputs": [],
   "source": [
    "#prob_shared_birthday(23,10000)\n",
    "prob_shared_birthday(23,10000,  probs = df_gb_yday['birth_prob'].values)"
   ]
  },
  {
   "cell_type": "code",
   "execution_count": null,
   "metadata": {},
   "outputs": [],
   "source": [
    "np.sum(df_gb_yday['birth_prob'].values)"
   ]
  },
  {
   "cell_type": "code",
   "execution_count": null,
   "metadata": {},
   "outputs": [],
   "source": [
    "ydays = np.arange(1,366)\n",
    "test_probs = np.sin(ydays/120)\n",
    "test_probs = test_probs/np.sum(test_probs)\n",
    "plt.plot(ydays,test_probs)\n",
    "#np.sum(test_probs)"
   ]
  },
  {
   "cell_type": "code",
   "execution_count": null,
   "metadata": {},
   "outputs": [],
   "source": [
    "p1=[]\n",
    "for N_in_room in range(1,60):\n",
    "    p1.append(prob_shared_birthday(N_in_room, 10000))\n",
    "\n",
    "p2=[]\n",
    "for N_in_room in range(1,60):\n",
    "    p2.append(prob_shared_birthday(N_in_room, 10000, probs = test_probs))\n",
    "#    p2.append(prob_shared_birthday(N_in_room, 30000, probs = df_gb_yday['birth_prob'].values))\n"
   ]
  },
  {
   "cell_type": "code",
   "execution_count": null,
   "metadata": {},
   "outputs": [],
   "source": [
    "fig, ax = plt.subplots(1, figsize=(8,8))\n",
    "ax.plot(list(range(1,60)), p1, linewidth=3, label='Uniform Dist.')\n",
    "ax.plot(list(range(1,60)), p2, linewidth=3, label='W/ Probs')\n",
    "ax.set_xlabel('# People in Room')\n",
    "ax.set_ylabel('p')\n",
    "ax.legend()\n",
    "ax.set_title('Probability At Least 2 People Share Birthday')\n",
    "plt.show()"
   ]
  },
  {
   "cell_type": "code",
   "execution_count": null,
   "metadata": {},
   "outputs": [],
   "source": [
    "ydays = np.arange(1,366)\n",
    "N_in_room = 50000\n",
    "x1 = np.random.choice(ydays, size=N_in_room, replace=True, p=None)\n",
    "x2 = np.random.choice(ydays, size=N_in_room, replace=True, p=df_gb_yday['birth_prob'].values)\n",
    "\n",
    "fig, ax = plt.subplots(1)\n",
    "ax.hist(x1,alpha=0.5,label='no probs')\n",
    "ax.hist(x2,alpha=0.5, label='probs')\n",
    "#ax.legend()\n",
    "plt.show()"
   ]
  },
  {
   "cell_type": "code",
   "execution_count": null,
   "metadata": {},
   "outputs": [],
   "source": []
  }
 ],
 "metadata": {
  "kernelspec": {
   "display_name": "Python 3",
   "language": "python",
   "name": "python3"
  },
  "language_info": {
   "codemirror_mode": {
    "name": "ipython",
    "version": 3
   },
   "file_extension": ".py",
   "mimetype": "text/x-python",
   "name": "python",
   "nbconvert_exporter": "python",
   "pygments_lexer": "ipython3",
   "version": "3.7.6"
  }
 },
 "nbformat": 4,
 "nbformat_minor": 4
}
